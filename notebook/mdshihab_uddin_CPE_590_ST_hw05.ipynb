{
  "nbformat": 4,
  "nbformat_minor": 0,
  "metadata": {
    "colab": {
      "provenance": [],
      "gpuType": "T4"
    },
    "kernelspec": {
      "name": "python3",
      "display_name": "Python 3"
    },
    "language_info": {
      "name": "python"
    },
    "accelerator": "GPU"
  },
  "cells": [
    {
      "cell_type": "markdown",
      "source": [
        "## Machine Learning Deployment for MNIST Dataset\n",
        "\n",
        "### Import Libraries"
      ],
      "metadata": {
        "id": "MmMw994JM8nw"
      }
    },
    {
      "cell_type": "code",
      "source": [
        "!pip install onnx onnxruntime -q"
      ],
      "metadata": {
        "id": "hparNjQvNpSG"
      },
      "execution_count": null,
      "outputs": []
    },
    {
      "cell_type": "code",
      "execution_count": null,
      "metadata": {
        "id": "sVZcrVTZMy-x"
      },
      "outputs": [],
      "source": [
        "import torch\n",
        "import torch.nn as nn\n",
        "import torch.optim as optim\n",
        "from torchvision import datasets, transforms\n",
        "from torch.utils.data import DataLoader, Subset, random_split\n",
        "import numpy as np\n",
        "import onnx\n",
        "import onnxruntime as ort\n",
        "import json\n",
        "import random\n",
        "import matplotlib.pyplot as plt\n",
        "from sklearn.model_selection import train_test_split"
      ]
    },
    {
      "cell_type": "markdown",
      "source": [
        "### Data Normalization"
      ],
      "metadata": {
        "id": "EH1GPoz0N41h"
      }
    },
    {
      "cell_type": "code",
      "source": [
        "transform = transforms.Compose([\n",
        "    transforms.ToTensor(),\n",
        "])\n",
        "\n",
        "# Download and load full MNIST\n",
        "mnist_dataset = datasets.MNIST(root='./data', train=True, download=True, transform=transform)"
      ],
      "metadata": {
        "colab": {
          "base_uri": "https://localhost:8080/"
        },
        "id": "aJx7GG5WNauc",
        "outputId": "e5b6c8b5-efbe-4262-bec0-e7789ad23e07"
      },
      "execution_count": null,
      "outputs": [
        {
          "output_type": "stream",
          "name": "stderr",
          "text": [
            "100%|██████████| 9.91M/9.91M [00:02<00:00, 4.12MB/s]\n",
            "100%|██████████| 28.9k/28.9k [00:00<00:00, 57.5kB/s]\n",
            "100%|██████████| 1.65M/1.65M [00:01<00:00, 1.27MB/s]\n",
            "100%|██████████| 4.54k/4.54k [00:00<00:00, 7.04MB/s]\n"
          ]
        }
      ]
    },
    {
      "cell_type": "markdown",
      "source": [
        "### Split the Dataset"
      ],
      "metadata": {
        "id": "yFasY3ITOMU5"
      }
    },
    {
      "cell_type": "code",
      "source": [
        "\n",
        "train_size = int(2/3 * len(mnist_dataset))\n",
        "test_size = len(mnist_dataset) - train_size\n",
        "train_dataset, test_dataset = random_split(mnist_dataset, [train_size, test_size], generator=torch.Generator().manual_seed(42))\n",
        "\n",
        "train_loader = DataLoader(train_dataset, batch_size=64, shuffle=True)\n",
        "test_loader = DataLoader(test_dataset, batch_size=64, shuffle=False)"
      ],
      "metadata": {
        "id": "SBSW1IGsOIkj"
      },
      "execution_count": null,
      "outputs": []
    },
    {
      "cell_type": "markdown",
      "source": [
        "### CNN Model Definition"
      ],
      "metadata": {
        "id": "CbOiv2EzOypK"
      }
    },
    {
      "cell_type": "code",
      "source": [
        "class MnistCNN(nn.Module):\n",
        "    def __init__(self):\n",
        "        super(MnistCNN, self).__init__()\n",
        "        self.conv_layer1 = nn.Conv2d(1, 32, kernel_size=3)\n",
        "        self.pool_layer1 = nn.MaxPool2d(kernel_size=2, stride=2)\n",
        "\n",
        "        self.conv_layer2 = nn.Conv2d(32, 64, kernel_size=3)\n",
        "        self.pool_layer2 = nn.MaxPool2d(kernel_size=2, stride=2)\n",
        "\n",
        "        self.flatten = nn.Flatten()\n",
        "        self.fc1 = nn.Linear(64 * 5 * 5, 128)\n",
        "        self.dropout = nn.Dropout(p=0.5)\n",
        "        self.fc2 = nn.Linear(128, 10)\n",
        "\n",
        "    def forward(self, x):\n",
        "        x = torch.relu(self.conv_layer1(x))\n",
        "        x = self.pool_layer1(x)\n",
        "        x = torch.relu(self.conv_layer2(x))\n",
        "        x = self.pool_layer2(x)\n",
        "        x = self.flatten(x)\n",
        "        x = torch.relu(self.fc1(x))\n",
        "        x = self.dropout(x)\n",
        "        x = self.fc2(x)\n",
        "        return x\n"
      ],
      "metadata": {
        "id": "SBVhHLvJOk1g"
      },
      "execution_count": null,
      "outputs": []
    },
    {
      "cell_type": "markdown",
      "source": [
        "### Set Training Parameters"
      ],
      "metadata": {
        "id": "JQTQ4CKBP-Lp"
      }
    },
    {
      "cell_type": "code",
      "source": [
        "# device = torch.device(\"cuda\" if torch.cuda.is_available() else \"cpu\")\n",
        "device = \"cpu\"\n",
        "print(f\"Device: {device}\")\n",
        "\n",
        "model = MnistCNN().to(device)\n",
        "criterion = nn.CrossEntropyLoss()\n",
        "optimizer = optim.Adam(model.parameters(), lr=0.01)"
      ],
      "metadata": {
        "colab": {
          "base_uri": "https://localhost:8080/"
        },
        "collapsed": true,
        "id": "l6y2CAFRPqrI",
        "outputId": "80a59fa2-f23f-486c-872d-6211cb8e7b74"
      },
      "execution_count": null,
      "outputs": [
        {
          "output_type": "stream",
          "name": "stdout",
          "text": [
            "Device: cpu\n"
          ]
        }
      ]
    },
    {
      "cell_type": "markdown",
      "source": [
        "### Scheduler Setup"
      ],
      "metadata": {
        "id": "ENzBQkZ2RO6o"
      }
    },
    {
      "cell_type": "code",
      "source": [
        "scheduler = optim.lr_scheduler.ReduceLROnPlateau(\n",
        "    optimizer, mode='min', factor=0.5, patience=2\n",
        ")"
      ],
      "metadata": {
        "id": "OePEGzJaRSGl"
      },
      "execution_count": null,
      "outputs": []
    },
    {
      "cell_type": "markdown",
      "source": [
        "### Train the Model"
      ],
      "metadata": {
        "id": "71mz_ub1RKP7"
      }
    },
    {
      "cell_type": "code",
      "source": [
        "\n",
        "epochs = 10\n",
        "\n",
        "for epoch in range(epochs):\n",
        "    model.train()\n",
        "    training_loss = 0.0\n",
        "    correct = 0\n",
        "    total = 0\n",
        "\n",
        "    for images, labels in train_loader:\n",
        "        images, labels = images.to(device), labels.to(device)\n",
        "\n",
        "        outputs = model(images)\n",
        "        loss = criterion(outputs, labels)\n",
        "\n",
        "        optimizer.zero_grad()\n",
        "        loss.backward()\n",
        "        optimizer.step()\n",
        "\n",
        "        training_loss += loss.item()\n",
        "        _, predicted = torch.max(outputs.data, 1)\n",
        "        total += labels.size(0)\n",
        "        correct += (predicted == labels).sum().item()\n",
        "\n",
        "    train_accuracy = correct / total\n",
        "    print(f\"Epoch [{epoch+1}/{epochs}], Loss: {training_loss:.4f}, Accuracy: {train_accuracy:.4f}\")\n",
        "    model.eval()\n",
        "    val_loss = 0.0\n",
        "    with torch.no_grad():\n",
        "        for images, labels in test_loader:\n",
        "            images, labels = images.to(device), labels.to(device)\n",
        "            outputs = model(images)\n",
        "            loss = criterion(outputs, labels)\n",
        "            val_loss += loss.item()\n",
        "\n",
        "    scheduler.step(val_loss)\n",
        "\n",
        "    print(f\"Current Learning Rate: {scheduler.optimizer.param_groups[0]['lr']:.6f}\")"
      ],
      "metadata": {
        "colab": {
          "base_uri": "https://localhost:8080/"
        },
        "id": "uHSJ0PoQQgTo",
        "outputId": "98ee5f0f-33bd-473e-dc5e-610d65866131"
      },
      "execution_count": null,
      "outputs": [
        {
          "output_type": "stream",
          "name": "stdout",
          "text": [
            "Epoch [1/10], Loss: 190.2330, Accuracy: 0.9061\n",
            "Current Learning Rate: 0.010000\n",
            "Epoch [2/10], Loss: 103.1466, Accuracy: 0.9516\n",
            "Current Learning Rate: 0.010000\n",
            "Epoch [3/10], Loss: 89.6029, Accuracy: 0.9582\n",
            "Current Learning Rate: 0.010000\n",
            "Epoch [4/10], Loss: 84.5722, Accuracy: 0.9597\n",
            "Current Learning Rate: 0.005000\n",
            "Epoch [5/10], Loss: 61.8390, Accuracy: 0.9718\n",
            "Current Learning Rate: 0.005000\n",
            "Epoch [6/10], Loss: 56.4756, Accuracy: 0.9724\n",
            "Current Learning Rate: 0.005000\n",
            "Epoch [7/10], Loss: 53.3668, Accuracy: 0.9732\n",
            "Current Learning Rate: 0.005000\n",
            "Epoch [8/10], Loss: 50.4471, Accuracy: 0.9747\n",
            "Current Learning Rate: 0.005000\n",
            "Epoch [9/10], Loss: 51.2906, Accuracy: 0.9751\n",
            "Current Learning Rate: 0.002500\n",
            "Epoch [10/10], Loss: 38.2436, Accuracy: 0.9808\n",
            "Current Learning Rate: 0.002500\n"
          ]
        }
      ]
    },
    {
      "cell_type": "markdown",
      "source": [
        "### Save the model as ONNX format"
      ],
      "metadata": {
        "id": "WBkOxHK4Tw1_"
      }
    },
    {
      "cell_type": "code",
      "source": [
        "onnx_model_path = \"/content/drive/MyDrive/Spring 2025/Courses/CPE 590 - ML/Homeworks/HW05/mnist_cnn.onnx\"\n",
        "dummy_input = torch.randn(1, 1, 28, 28).to(device)\n",
        "\n",
        "torch.onnx.export(\n",
        "    model, dummy_input, onnx_model_path,\n",
        "    input_names=[\"input\"], output_names=[\"output\"],\n",
        "    dynamic_axes={\"input\": {0: \"batch_size\"}, \"output\": {0: \"batch_size\"}},\n",
        "    opset_version=11\n",
        ")\n",
        "\n",
        "print(f\"Model exported as {onnx_model_path}\")"
      ],
      "metadata": {
        "colab": {
          "base_uri": "https://localhost:8080/"
        },
        "id": "1UUYMGEERtqh",
        "outputId": "4baac771-d212-49b2-b3d4-fd097be649fc"
      },
      "execution_count": null,
      "outputs": [
        {
          "output_type": "stream",
          "name": "stdout",
          "text": [
            "Model exported as /content/drive/MyDrive/Spring 2025/Courses/CPE 590 - ML/Homeworks/HW05/mnist_cnn.onnx\n"
          ]
        }
      ]
    },
    {
      "cell_type": "markdown",
      "source": [
        "### Save 5 Random Test Samples"
      ],
      "metadata": {
        "id": "-XnaLThfU8Cz"
      }
    },
    {
      "cell_type": "code",
      "source": [
        "test_samples = random.sample(list(test_dataset), 5)\n",
        "saved_examples = []\n",
        "\n",
        "for idx, (image, label) in enumerate(test_samples):\n",
        "    image_np = image.squeeze(0).numpy().tolist()\n",
        "    saved_examples.append({\n",
        "        \"pixels\": image_np,\n",
        "        \"label\": int(label)\n",
        "    })\n",
        "\n",
        "# Save to JSON\n",
        "with open(\"/content/drive/MyDrive/Spring 2025/Courses/CPE 590 - ML/Homeworks/HW05/sample_test_images.json\", \"w\") as f:\n",
        "    json.dump(saved_examples, f)\n",
        "\n",
        "print(\"Saved 5 test samples to sample_test_images.json\")\n"
      ],
      "metadata": {
        "colab": {
          "base_uri": "https://localhost:8080/"
        },
        "id": "w9RSS-jIU9Ta",
        "outputId": "7fe0fe37-6975-4dbe-f788-409a2de9d0af"
      },
      "execution_count": null,
      "outputs": [
        {
          "output_type": "stream",
          "name": "stdout",
          "text": [
            "Saved 5 test samples to sample_test_images.json\n"
          ]
        }
      ]
    },
    {
      "cell_type": "markdown",
      "source": [
        "### Run Inference with ONNX"
      ],
      "metadata": {
        "id": "t9LRIbm2V4sB"
      }
    },
    {
      "cell_type": "code",
      "source": [
        "import numpy as np\n",
        "import onnxruntime as ort\n",
        "import json\n",
        "import matplotlib.pyplot as plt\n",
        "\n",
        "# Load the ONNX model\n",
        "ort_session = ort.InferenceSession(onnx_model_path)\n",
        "\n",
        "# Load the test samples\n",
        "json_path = \"/content/drive/MyDrive/Spring 2025/Courses/CPE 590 - ML/Homeworks/HW05/sample_test_images.json\"\n",
        "with open(json_path, \"r\") as f:\n",
        "    test_samples = json.load(f)\n",
        "\n",
        "correct = 0\n",
        "predictions = []\n",
        "\n",
        "for i, sample in enumerate(test_samples):\n",
        "    image_np = np.array(sample[\"pixels\"], dtype=np.float32).reshape(1, 1, 28, 28)\n",
        "    true_label = sample[\"label\"]\n",
        "\n",
        "    ort_inputs = {ort_session.get_inputs()[0].name: image_np}\n",
        "    ort_outs = ort_session.run(None, ort_inputs)\n",
        "    predicted_label = np.argmax(ort_outs[0], axis=1)[0]\n",
        "\n",
        "    predictions.append((image_np.squeeze(), true_label, predicted_label))\n",
        "\n",
        "    # print(f\"Sample {i+1}: True Label = {true_label}, Predicted = {predicted_label}\")\n",
        "    if predicted_label == true_label:\n",
        "        correct += 1\n",
        "\n",
        "print(f\"\\nONNX Prediction Accuracy on 5 Samples: {correct}/5\")\n",
        "\n",
        "plt.figure(figsize=(10, 3))\n",
        "for idx, (image, true_label, pred_label) in enumerate(predictions):\n",
        "    plt.subplot(1, 5, idx + 1)\n",
        "    plt.imshow(image, cmap='gray')\n",
        "    plt.title(f\"True: {true_label}\\nPred: {pred_label}\")\n",
        "    plt.axis('off')\n",
        "\n",
        "plt.tight_layout()\n",
        "plt.show()\n"
      ],
      "metadata": {
        "colab": {
          "base_uri": "https://localhost:8080/",
          "height": 297
        },
        "id": "wRtp1ysYWRJ6",
        "outputId": "f48cbcc6-914e-43fa-8110-6b2fc8e03b7c"
      },
      "execution_count": null,
      "outputs": [
        {
          "output_type": "stream",
          "name": "stdout",
          "text": [
            "\n",
            "ONNX Prediction Accuracy on 5 Samples: 5/5\n"
          ]
        },
        {
          "output_type": "display_data",
          "data": {
            "text/plain": [
              "<Figure size 1000x300 with 5 Axes>"
            ],
            "image/png": "[encoded data removed]"
          },
          "metadata": {}
        }
      ]
    },
    {
      "cell_type": "code",
      "source": [],
      "metadata": {
        "id": "bGWEWZTCW6AP"
      },
      "execution_count": null,
      "outputs": []
    }
  ]
}